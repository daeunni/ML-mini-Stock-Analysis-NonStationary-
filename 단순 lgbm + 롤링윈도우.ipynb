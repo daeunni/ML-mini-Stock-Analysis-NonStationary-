{
 "cells": [
  {
   "cell_type": "markdown",
   "metadata": {},
   "source": [
    "# 비정상성을 띄는 삼성전자 주가 예측\n",
    "## 1. 단순 lgbm 예측"
   ]
  },
  {
   "cell_type": "code",
   "execution_count": 1,
   "metadata": {},
   "outputs": [
    {
     "name": "stderr",
     "output_type": "stream",
     "text": [
      "C:\\ProgramData\\Anaconda3\\lib\\site-packages\\pandas_datareader\\compat\\__init__.py:7: FutureWarning: pandas.util.testing is deprecated. Use the functions in the public API at pandas.testing instead.\n",
      "  from pandas.util.testing import assert_frame_equal\n"
     ]
    }
   ],
   "source": [
    "from datetime import datetime\n",
    "import pandas_datareader.data as wb\n",
    "import pandas as pd\n",
    "import numpy as np\n",
    "import warnings\n",
    "warnings.filterwarnings('ignore')\n",
    "import lightgbm as lgb\n",
    "from sklearn.model_selection import train_test_split\n",
    "from tqdm import tqdm\n",
    "import matplotlib.pyplot as plt\n",
    "import seaborn as sns\n",
    "\n",
    "# train 기간 \n",
    "start = datetime(2018, 5, 3)\n",
    "end = datetime(2019, 5, 1)\n",
    "\n",
    "# 예측 기간\n",
    "y_start = datetime(2019,5,2)\n",
    "y_end = datetime(2019,5,27)"
   ]
  },
  {
   "cell_type": "code",
   "execution_count": 2,
   "metadata": {},
   "outputs": [],
   "source": [
    "# 삼성전자\n",
    "ss = wb.DataReader('005930.KS', 'yahoo', start, end)\n",
    "ss_y = wb.DataReader('005930.KS', 'yahoo', y_start, y_end)"
   ]
  },
  {
   "cell_type": "code",
   "execution_count": 3,
   "metadata": {},
   "outputs": [],
   "source": [
    "# 중간값으로 채우기\n",
    "\n",
    "ss[ss[\"Volume\"]==0]\n",
    "ss.loc[ss['Volume'] == 0, 'Volume'] = ss['Volume'].median()"
   ]
  },
  {
   "cell_type": "code",
   "execution_count": 4,
   "metadata": {},
   "outputs": [
    {
     "data": {
      "text/html": [
       "<div>\n",
       "<style scoped>\n",
       "    .dataframe tbody tr th:only-of-type {\n",
       "        vertical-align: middle;\n",
       "    }\n",
       "\n",
       "    .dataframe tbody tr th {\n",
       "        vertical-align: top;\n",
       "    }\n",
       "\n",
       "    .dataframe thead th {\n",
       "        text-align: right;\n",
       "    }\n",
       "</style>\n",
       "<table border=\"1\" class=\"dataframe\">\n",
       "  <thead>\n",
       "    <tr style=\"text-align: right;\">\n",
       "      <th></th>\n",
       "      <th>High</th>\n",
       "      <th>Low</th>\n",
       "      <th>Open</th>\n",
       "      <th>Close</th>\n",
       "      <th>Volume</th>\n",
       "      <th>Adj Close</th>\n",
       "    </tr>\n",
       "    <tr>\n",
       "      <th>Date</th>\n",
       "      <th></th>\n",
       "      <th></th>\n",
       "      <th></th>\n",
       "      <th></th>\n",
       "      <th></th>\n",
       "      <th></th>\n",
       "    </tr>\n",
       "  </thead>\n",
       "  <tbody>\n",
       "    <tr>\n",
       "      <th>2018-05-03</th>\n",
       "      <td>53000.0</td>\n",
       "      <td>53000.0</td>\n",
       "      <td>53000.0</td>\n",
       "      <td>53000.0</td>\n",
       "      <td>10638766.0</td>\n",
       "      <td>51733.824219</td>\n",
       "    </tr>\n",
       "    <tr>\n",
       "      <th>2018-05-04</th>\n",
       "      <td>53900.0</td>\n",
       "      <td>51800.0</td>\n",
       "      <td>53000.0</td>\n",
       "      <td>51900.0</td>\n",
       "      <td>39565391.0</td>\n",
       "      <td>50660.105469</td>\n",
       "    </tr>\n",
       "    <tr>\n",
       "      <th>2018-05-08</th>\n",
       "      <td>53200.0</td>\n",
       "      <td>51900.0</td>\n",
       "      <td>52600.0</td>\n",
       "      <td>52600.0</td>\n",
       "      <td>23104720.0</td>\n",
       "      <td>51343.382812</td>\n",
       "    </tr>\n",
       "    <tr>\n",
       "      <th>2018-05-09</th>\n",
       "      <td>52800.0</td>\n",
       "      <td>50900.0</td>\n",
       "      <td>52600.0</td>\n",
       "      <td>50900.0</td>\n",
       "      <td>16128305.0</td>\n",
       "      <td>49683.992188</td>\n",
       "    </tr>\n",
       "    <tr>\n",
       "      <th>2018-05-10</th>\n",
       "      <td>51700.0</td>\n",
       "      <td>50600.0</td>\n",
       "      <td>51700.0</td>\n",
       "      <td>51600.0</td>\n",
       "      <td>13905263.0</td>\n",
       "      <td>50367.269531</td>\n",
       "    </tr>\n",
       "  </tbody>\n",
       "</table>\n",
       "</div>"
      ],
      "text/plain": [
       "               High      Low     Open    Close      Volume     Adj Close\n",
       "Date                                                                    \n",
       "2018-05-03  53000.0  53000.0  53000.0  53000.0  10638766.0  51733.824219\n",
       "2018-05-04  53900.0  51800.0  53000.0  51900.0  39565391.0  50660.105469\n",
       "2018-05-08  53200.0  51900.0  52600.0  52600.0  23104720.0  51343.382812\n",
       "2018-05-09  52800.0  50900.0  52600.0  50900.0  16128305.0  49683.992188\n",
       "2018-05-10  51700.0  50600.0  51700.0  51600.0  13905263.0  50367.269531"
      ]
     },
     "execution_count": 4,
     "metadata": {},
     "output_type": "execute_result"
    }
   ],
   "source": [
    "ss.head()"
   ]
  },
  {
   "cell_type": "code",
   "execution_count": 5,
   "metadata": {},
   "outputs": [
    {
     "name": "stdout",
     "output_type": "stream",
     "text": [
      "(241, 6) (17, 6)\n"
     ]
    }
   ],
   "source": [
    "print(ss.shape, ss_y.shape)"
   ]
  },
  {
   "cell_type": "code",
   "execution_count": 6,
   "metadata": {},
   "outputs": [],
   "source": [
    "ss.reset_index(inplace=True)\n",
    "ss_y.reset_index(inplace=True)"
   ]
  },
  {
   "cell_type": "code",
   "execution_count": 7,
   "metadata": {},
   "outputs": [
    {
     "data": {
      "text/html": [
       "<div>\n",
       "<style scoped>\n",
       "    .dataframe tbody tr th:only-of-type {\n",
       "        vertical-align: middle;\n",
       "    }\n",
       "\n",
       "    .dataframe tbody tr th {\n",
       "        vertical-align: top;\n",
       "    }\n",
       "\n",
       "    .dataframe thead th {\n",
       "        text-align: right;\n",
       "    }\n",
       "</style>\n",
       "<table border=\"1\" class=\"dataframe\">\n",
       "  <thead>\n",
       "    <tr style=\"text-align: right;\">\n",
       "      <th></th>\n",
       "      <th>High</th>\n",
       "      <th>Low</th>\n",
       "      <th>Close</th>\n",
       "      <th>Volume</th>\n",
       "      <th>Adj Close</th>\n",
       "    </tr>\n",
       "  </thead>\n",
       "  <tbody>\n",
       "    <tr>\n",
       "      <th>0</th>\n",
       "      <td>53000.0</td>\n",
       "      <td>53000.0</td>\n",
       "      <td>53000.0</td>\n",
       "      <td>10638766.0</td>\n",
       "      <td>51733.824219</td>\n",
       "    </tr>\n",
       "    <tr>\n",
       "      <th>1</th>\n",
       "      <td>53900.0</td>\n",
       "      <td>51800.0</td>\n",
       "      <td>51900.0</td>\n",
       "      <td>39565391.0</td>\n",
       "      <td>50660.105469</td>\n",
       "    </tr>\n",
       "    <tr>\n",
       "      <th>2</th>\n",
       "      <td>53200.0</td>\n",
       "      <td>51900.0</td>\n",
       "      <td>52600.0</td>\n",
       "      <td>23104720.0</td>\n",
       "      <td>51343.382812</td>\n",
       "    </tr>\n",
       "    <tr>\n",
       "      <th>3</th>\n",
       "      <td>52800.0</td>\n",
       "      <td>50900.0</td>\n",
       "      <td>50900.0</td>\n",
       "      <td>16128305.0</td>\n",
       "      <td>49683.992188</td>\n",
       "    </tr>\n",
       "    <tr>\n",
       "      <th>4</th>\n",
       "      <td>51700.0</td>\n",
       "      <td>50600.0</td>\n",
       "      <td>51600.0</td>\n",
       "      <td>13905263.0</td>\n",
       "      <td>50367.269531</td>\n",
       "    </tr>\n",
       "  </tbody>\n",
       "</table>\n",
       "</div>"
      ],
      "text/plain": [
       "      High      Low    Close      Volume     Adj Close\n",
       "0  53000.0  53000.0  53000.0  10638766.0  51733.824219\n",
       "1  53900.0  51800.0  51900.0  39565391.0  50660.105469\n",
       "2  53200.0  51900.0  52600.0  23104720.0  51343.382812\n",
       "3  52800.0  50900.0  50900.0  16128305.0  49683.992188\n",
       "4  51700.0  50600.0  51600.0  13905263.0  50367.269531"
      ]
     },
     "execution_count": 7,
     "metadata": {},
     "output_type": "execute_result"
    }
   ],
   "source": [
    "# 데이터 분할\n",
    "from sklearn.model_selection import train_test_split\n",
    "\n",
    "X = ss.drop(columns=['Date', 'Open'])\n",
    "y = ss['Open']\n",
    "X_test = ss_y.drop(columns=['Date', 'Open'])\n",
    "y_test = ss_y['Open']\n",
    "\n",
    "X.head()"
   ]
  },
  {
   "cell_type": "code",
   "execution_count": 8,
   "metadata": {},
   "outputs": [
    {
     "name": "stdout",
     "output_type": "stream",
     "text": [
      "(192, 5) (192,) (49, 5) (49,)\n",
      "(17, 5) (17,)\n"
     ]
    }
   ],
   "source": [
    "X_train, X_valid, y_train, y_valid = train_test_split(X, y, test_size=0.2)\n",
    "print(X_train.shape, y_train.shape, X_valid.shape, y_valid.shape)\n",
    "print(X_test.shape, y_test.shape)"
   ]
  },
  {
   "cell_type": "code",
   "execution_count": 9,
   "metadata": {},
   "outputs": [],
   "source": [
    "import lightgbm as lgb\n",
    "import math\n",
    "\n",
    "# parameter 조정\n",
    "params = {\n",
    "    'boosting_type': 'gbdt',\n",
    "    'objective': 'regression',\n",
    "    'metric': 'rmsle',\n",
    "    'max_depth': 10, \n",
    "    'learning_rate': 0.5,\n",
    "    'verbose': 0 }\n",
    "\n",
    "n_estimators = 100\n",
    "\n",
    "n_iters = 10\n",
    "\n",
    "for i in range(n_iters): \n",
    "    X_train, X_valid, y_train, y_valid = train_test_split(X, y, test_size=0.20)\n",
    "    d_train = lgb.Dataset(X_train, label=y_train)\n",
    "    d_test = lgb.Dataset(X_test, label=y_test)\n",
    "    \n",
    "    watchlist = [d_test]\n",
    "\n",
    "    model = lgb.train(params, d_train, n_estimators, watchlist, verbose_eval=1)\n",
    "\n",
    "    preds = model.predict(X_test)\n",
    "    "
   ]
  },
  {
   "cell_type": "code",
   "execution_count": 10,
   "metadata": {},
   "outputs": [
    {
     "data": {
      "text/plain": [
       "array([45988.38797419, 45562.31801904, 45430.37595835, 44140.10573069,\n",
       "       43655.86661001, 43146.49004874, 43115.50048958, 42116.31336367,\n",
       "       43115.50048958, 40926.60019822, 40364.85163901, 42275.93631261,\n",
       "       43390.67134129, 43112.56813582, 43112.76384608, 43422.2464648 ,\n",
       "       43149.12605963])"
      ]
     },
     "execution_count": 10,
     "metadata": {},
     "output_type": "execute_result"
    }
   ],
   "source": [
    "preds"
   ]
  },
  {
   "cell_type": "code",
   "execution_count": 11,
   "metadata": {},
   "outputs": [
    {
     "data": {
      "text/plain": [
       "<matplotlib.axes._subplots.AxesSubplot at 0x1ea35647808>"
      ]
     },
     "execution_count": 11,
     "metadata": {},
     "output_type": "execute_result"
    },
    {
     "data": {
      "image/png": "[encoded data removed]",
      "text/plain": [
       "<Figure size 432x288 with 1 Axes>"
      ]
     },
     "metadata": {
      "needs_background": "light"
     },
     "output_type": "display_data"
    }
   ],
   "source": [
    "submisson = pd.DataFrame()\n",
    "submisson['open'] = preds\n",
    "submisson.plot()"
   ]
  },
  {
   "cell_type": "code",
   "execution_count": 12,
   "metadata": {},
   "outputs": [
    {
     "data": {
      "text/plain": [
       "<matplotlib.axes._subplots.AxesSubplot at 0x1ea35679f08>"
      ]
     },
     "execution_count": 12,
     "metadata": {},
     "output_type": "execute_result"
    },
    {
     "data": {
      "image/png": "[encoded data removed]",
      "text/plain": [
       "<Figure size 432x288 with 1 Axes>"
      ]
     },
     "metadata": {
      "needs_background": "light"
     },
     "output_type": "display_data"
    }
   ],
   "source": [
    "y_test.plot()"
   ]
  },
  {
   "cell_type": "code",
   "execution_count": 13,
   "metadata": {},
   "outputs": [
    {
     "data": {
      "text/html": [
       "<div>\n",
       "<style scoped>\n",
       "    .dataframe tbody tr th:only-of-type {\n",
       "        vertical-align: middle;\n",
       "    }\n",
       "\n",
       "    .dataframe tbody tr th {\n",
       "        vertical-align: top;\n",
       "    }\n",
       "\n",
       "    .dataframe thead th {\n",
       "        text-align: right;\n",
       "    }\n",
       "</style>\n",
       "<table border=\"1\" class=\"dataframe\">\n",
       "  <thead>\n",
       "    <tr style=\"text-align: right;\">\n",
       "      <th></th>\n",
       "      <th>open</th>\n",
       "    </tr>\n",
       "  </thead>\n",
       "  <tbody>\n",
       "    <tr>\n",
       "      <th>0</th>\n",
       "      <td>45988.387974</td>\n",
       "    </tr>\n",
       "    <tr>\n",
       "      <th>1</th>\n",
       "      <td>45562.318019</td>\n",
       "    </tr>\n",
       "    <tr>\n",
       "      <th>2</th>\n",
       "      <td>45430.375958</td>\n",
       "    </tr>\n",
       "    <tr>\n",
       "      <th>3</th>\n",
       "      <td>44140.105731</td>\n",
       "    </tr>\n",
       "    <tr>\n",
       "      <th>4</th>\n",
       "      <td>43655.866610</td>\n",
       "    </tr>\n",
       "  </tbody>\n",
       "</table>\n",
       "</div>"
      ],
      "text/plain": [
       "           open\n",
       "0  45988.387974\n",
       "1  45562.318019\n",
       "2  45430.375958\n",
       "3  44140.105731\n",
       "4  43655.866610"
      ]
     },
     "execution_count": 13,
     "metadata": {},
     "output_type": "execute_result"
    }
   ],
   "source": [
    "submisson.head()"
   ]
  },
  {
   "cell_type": "code",
   "execution_count": 14,
   "metadata": {},
   "outputs": [
    {
     "data": {
      "text/plain": [
       "[45988.387974188154,\n",
       " 45562.31801903685,\n",
       " 45430.375958352626,\n",
       " 44140.10573069404,\n",
       " 43655.86661001085,\n",
       " 43146.49004873895,\n",
       " 43115.50048958466,\n",
       " 42116.313363669185,\n",
       " 43115.50048958466,\n",
       " 40926.600198220294,\n",
       " 40364.851639005625,\n",
       " 42275.93631261223,\n",
       " 43390.67134129272,\n",
       " 43112.56813582204,\n",
       " 43112.76384608442,\n",
       " 43422.246464804746,\n",
       " 43149.12605962797]"
      ]
     },
     "execution_count": 14,
     "metadata": {},
     "output_type": "execute_result"
    }
   ],
   "source": [
    "sub_list = submisson['open'].tolist()\n",
    "sub_list"
   ]
  },
  {
   "cell_type": "code",
   "execution_count": 15,
   "metadata": {},
   "outputs": [],
   "source": [
    "real = pd.DataFrame()\n",
    "real['open'] = y_test\n",
    "real_list = real['open'].tolist()"
   ]
  },
  {
   "cell_type": "code",
   "execution_count": 16,
   "metadata": {},
   "outputs": [
    {
     "data": {
      "text/plain": [
       "730.4855029844066"
      ]
     },
     "execution_count": 16,
     "metadata": {},
     "output_type": "execute_result"
    }
   ],
   "source": [
    "c=0\n",
    "for i in range(len(real_list)):\n",
    "    c+=(real_list[i]-sub_list[i])**2\n",
    "import math\n",
    "rmse=math.sqrt(c/17)\n",
    "rmse"
   ]
  },
  {
   "cell_type": "markdown",
   "metadata": {},
   "source": [
    "## 2. 한달 구간으로 rolling window 진행 후 예측"
   ]
  },
  {
   "cell_type": "code",
   "execution_count": 17,
   "metadata": {},
   "outputs": [],
   "source": [
    "# 삼성전자\n",
    "ss = wb.DataReader('005930.KS', 'yahoo', start, end)\n",
    "ss_y = wb.DataReader('005930.KS', 'yahoo', y_start, y_end)\n",
    "\n",
    "start = datetime(2018, 5, 3)\n",
    "end = datetime(2019, 5, 1)\n",
    "\n",
    "y_start = datetime(2019,5,2)\n",
    "y_end = datetime(2019,5,27)\n",
    "\n",
    "feature_names = ['High', 'Low', 'Close', 'Volume', 'Adj Close']\n",
    "\n",
    "n_samples = 30\n",
    "y_hats = []\n",
    "end = int(len(ss) / 30)\n",
    "\n",
    "for i in range(end+1):\n",
    "    train_df = ss[:n_samples] # 30개 자름\n",
    "    if i == end:\n",
    "        start = datetime(2019,5,2)\n",
    "        end = datetime(2019,5,27)\n",
    "        test_df = wb.DataReader('005930.KS', 'yahoo',start,end)\n",
    "        test_df[test_df[\"Volume\"]==0]\n",
    "        test_df.loc[test_df['Volume'] == 0, 'Volume'] = test_df['Volume'].median()\n",
    "\n",
    "    else:\n",
    "        test_df = ss[n_samples:n_samples+30]\n",
    "\n",
    "    # lgbm    \n",
    "    for i in range(n_iters): \n",
    "        X = train_df[feature_names]\n",
    "        y = train_df.Open\n",
    "        \n",
    "        X_train, X_valid, y_train, y_valid = train_test_split(X, y, test_size=0.20)\n",
    "        \n",
    "        d_train = lgb.Dataset(X_train, label=y_train)\n",
    "        d_test = lgb.Dataset(X_valid, label=y_valid)\n",
    "\n",
    "        watchlist = [d_test]\n",
    "\n",
    "        model = lgb.train(params, d_train, n_estimators, watchlist, verbose_eval=1)\n",
    "\n",
    "        r_preds = model.predict(test_df[feature_names])\n",
    "\n",
    "    n_samples = n_samples + 30\n",
    "    \n",
    "    if n_samples > len(ss):\n",
    "        n_smaples = len(ss)"
   ]
  },
  {
   "cell_type": "code",
   "execution_count": 18,
   "metadata": {},
   "outputs": [
    {
     "data": {
      "text/plain": [
       "[46118.709896880195,\n",
       " 45517.040132920294,\n",
       " 45357.01629292352,\n",
       " 44413.58021413945,\n",
       " 43378.12323064249,\n",
       " 43235.753489473034,\n",
       " 42593.118563103446,\n",
       " 42847.16506750689,\n",
       " 42961.0669477965,\n",
       " 41942.4723270952,\n",
       " 40546.443129968575,\n",
       " 42320.06278635005,\n",
       " 43419.190034600695,\n",
       " 43040.74128869214,\n",
       " 43300.85490951998,\n",
       " 43229.425784049294,\n",
       " 42893.74542553777]"
      ]
     },
     "execution_count": 18,
     "metadata": {},
     "output_type": "execute_result"
    }
   ],
   "source": [
    "window_pred = r_preds.tolist() #array list 변환\n",
    "window_pred"
   ]
  },
  {
   "cell_type": "code",
   "execution_count": 19,
   "metadata": {},
   "outputs": [
    {
     "data": {
      "text/plain": [
       "695.8360270061705"
      ]
     },
     "execution_count": 19,
     "metadata": {},
     "output_type": "execute_result"
    }
   ],
   "source": [
    "c=0\n",
    "for i in range(len(real_list)):\n",
    "    c+=(real_list[i]-window_pred[i])**2\n",
    "import math\n",
    "rmse=math.sqrt(c/17)\n",
    "rmse"
   ]
  }
 ],
 "metadata": {
  "kernelspec": {
   "display_name": "Python 3",
   "language": "python",
   "name": "python3"
  },
  "language_info": {
   "codemirror_mode": {
    "name": "ipython",
    "version": 3
   },
   "file_extension": ".py",
   "mimetype": "text/x-python",
   "name": "python",
   "nbconvert_exporter": "python",
   "pygments_lexer": "ipython3",
   "version": "3.7.7"
  }
 },
 "nbformat": 4,
 "nbformat_minor": 4
}
